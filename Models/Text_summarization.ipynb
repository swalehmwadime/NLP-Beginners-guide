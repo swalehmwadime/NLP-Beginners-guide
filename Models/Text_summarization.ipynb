{
  "nbformat": 4,
  "nbformat_minor": 0,
  "metadata": {
    "colab": {
      "provenance": []
    },
    "kernelspec": {
      "name": "python3",
      "display_name": "Python 3"
    },
    "language_info": {
      "name": "python"
    }
  },
  "cells": [
    {
      "cell_type": "markdown",
      "source": [
        "# <b>Text Summarization</b>"
      ],
      "metadata": {
        "id": "EVnsTuUbh_N4"
      }
    },
    {
      "cell_type": "markdown",
      "source": [
        "### What This Script Does <br>\n",
        "1. Loads the text content from a file (nlp.txt).\n",
        "2. Summarizes the text using the transformers library.\n",
        "3. Displays the summary in the console.\n",
        "4. Saves the summary into a new text file (summarized_newsletter.txt)."
      ],
      "metadata": {
        "id": "ZWjmogzblGLL"
      }
    },
    {
      "cell_type": "code",
      "source": [
        "!pip install transformers\n"
      ],
      "metadata": {
        "colab": {
          "base_uri": "https://localhost:8080/"
        },
        "id": "eAUe_hUojBoZ",
        "outputId": "5a6d33b8-b10d-41a6-d30d-3d7ffec00c6a"
      },
      "execution_count": 1,
      "outputs": [
        {
          "output_type": "stream",
          "name": "stdout",
          "text": [
            "Requirement already satisfied: transformers in /usr/local/lib/python3.10/dist-packages (4.46.2)\n",
            "Requirement already satisfied: filelock in /usr/local/lib/python3.10/dist-packages (from transformers) (3.16.1)\n",
            "Requirement already satisfied: huggingface-hub<1.0,>=0.23.2 in /usr/local/lib/python3.10/dist-packages (from transformers) (0.26.2)\n",
            "Requirement already satisfied: numpy>=1.17 in /usr/local/lib/python3.10/dist-packages (from transformers) (1.26.4)\n",
            "Requirement already satisfied: packaging>=20.0 in /usr/local/lib/python3.10/dist-packages (from transformers) (24.2)\n",
            "Requirement already satisfied: pyyaml>=5.1 in /usr/local/lib/python3.10/dist-packages (from transformers) (6.0.2)\n",
            "Requirement already satisfied: regex!=2019.12.17 in /usr/local/lib/python3.10/dist-packages (from transformers) (2024.9.11)\n",
            "Requirement already satisfied: requests in /usr/local/lib/python3.10/dist-packages (from transformers) (2.32.3)\n",
            "Requirement already satisfied: safetensors>=0.4.1 in /usr/local/lib/python3.10/dist-packages (from transformers) (0.4.5)\n",
            "Requirement already satisfied: tokenizers<0.21,>=0.20 in /usr/local/lib/python3.10/dist-packages (from transformers) (0.20.3)\n",
            "Requirement already satisfied: tqdm>=4.27 in /usr/local/lib/python3.10/dist-packages (from transformers) (4.66.6)\n",
            "Requirement already satisfied: fsspec>=2023.5.0 in /usr/local/lib/python3.10/dist-packages (from huggingface-hub<1.0,>=0.23.2->transformers) (2024.10.0)\n",
            "Requirement already satisfied: typing-extensions>=3.7.4.3 in /usr/local/lib/python3.10/dist-packages (from huggingface-hub<1.0,>=0.23.2->transformers) (4.12.2)\n",
            "Requirement already satisfied: charset-normalizer<4,>=2 in /usr/local/lib/python3.10/dist-packages (from requests->transformers) (3.4.0)\n",
            "Requirement already satisfied: idna<4,>=2.5 in /usr/local/lib/python3.10/dist-packages (from requests->transformers) (3.10)\n",
            "Requirement already satisfied: urllib3<3,>=1.21.1 in /usr/local/lib/python3.10/dist-packages (from requests->transformers) (2.2.3)\n",
            "Requirement already satisfied: certifi>=2017.4.17 in /usr/local/lib/python3.10/dist-packages (from requests->transformers) (2024.8.30)\n"
          ]
        }
      ]
    },
    {
      "cell_type": "code",
      "source": [
        "from transformers import pipeline\n",
        "\n",
        "# Step 1: Load the text file\n",
        "file_path = '/content/nlp.txt'  # Replace with your file path\n",
        "with open(file_path, 'r', encoding='utf-8') as file:\n",
        "    text_content = file.read()\n",
        "\n",
        "print(text_content[:])  # Print the first 500 characters as a preview"
      ],
      "metadata": {
        "colab": {
          "base_uri": "https://localhost:8080/"
        },
        "id": "dZpXHWkXL640",
        "outputId": "8c2e65ee-432b-49bc-d1e5-fccb4ae42356"
      },
      "execution_count": 3,
      "outputs": [
        {
          "output_type": "stream",
          "name": "stdout",
          "text": [
            "﻿Natural Language Processing.\n",
            "NLP is a branch of artificial intelligence (AI) focused on enabling computers to understand, interpret, and generate human language in a way that feels natural and intuitive. Think of it as the bridge between humans and machines, allowing us to communicate with computers using everyday language.\n",
            "Key Concepts Made Simple\n",
            "1. Tokenization: Imagine breaking down a sentence into smaller pieces like words or phrases—these pieces are called tokens. Tokenization helps computers understand the structure of text and process it more efficiently. Video link\n",
            "2. Text preprocessing: Before computers can analyze text, they need to clean and normalize it. This involves removing punctuation, irrelevant words (stopwords), and other noise to focus on the essential information.\n",
            "3. Word embeddings: Picture words represented as dense vectors in a vast space, where similar words are closer together. Word embeddings capture the meaning and relationships between words, allowing computers to understand context and semantics.\n",
            "4. Named Entity Recognition (NER): Have you ever seen a computer identify names of people, organizations, or locations in text? That's NER in action! It helps computers understand who or what is being mentioned in a piece of text.\n",
            "5. Sentiment Analysis: Imagine a computer reading a tweet and instantly knowing whether it's positive, negative, or neutral. That's sentiment analysis! It helps us understand the emotional tone of text and gauge public opinion.\n",
            "6. Topic Modeling: Ever wondered how computers organize large collections of documents into meaningful topics? That's where topic modeling comes in. It automatically identifies common themes or topics across documents, making it easier to navigate and analyze large volumes of text.\n",
            "7. Text Generation: Have you ever seen a computer write a story or compose a song? Text generation algorithms learn from existing text data and use that knowledge to generate new, coherent text based on learned patterns and language models.\n",
            "Real-World Applications of NLP\n",
            "Now that we understand the basics, let's explore some practical applications of NLP:\n",
            "1. Chatbots: chatbots are artificial intelligence programs designed to interact with humans in a way that mimics natural conversation. They can respond to specific keywords or engage in full conversations. NLP and machine learning enable chatbots to understand the complexities of human language and learn from their interactions with users1.\n",
            "2. Autocomplete in Search Engines: When you start typing a query in a search engine, you’ve probably noticed that it suggests completions based on what you’re typing. NLP algorithms analyze the context and predict the most likely next word or phrase, making search more efficient and user-friendly.\n",
            "3. Voice Assistants: Siri, Alexa, and Google Assistant rely on NLP to understand spoken language and provide accurate responses. They can answer questions, set reminders, play music, and perform various tasks—all through natural conversation.\n",
            "4. Language Translation: NLP powers language translation tools. These tools analyze input text in one language and generate equivalent text in another language. Think of Google Translate—it’s an excellent example of NLP in action.\n",
            "5. Sentiment Analysis: Imagine analyzing social media posts, reviews, or news articles to determine whether the sentiment is positive, negative, or neutral. NLP algorithms can automatically gauge public opinion and emotional tone.\n",
            "6. Grammar Checkers: NLP-based grammar checkers help users write error-free emails, documents, and messages. They identify grammatical errors, suggest corrections, and improve overall writing quality.\n",
            "7. Email Classification and Filtering: NLP can automatically categorize incoming emails based on content. For instance, it can sort emails into folders like “Work,” “Personal,” or “Promotions.” This enhances email organization and efficiency.\n",
            "Well that said and done, check out this brief overview of NLP to understand more about its applications.\n",
            "See you in the next editions of this article...\n",
            "Swaleh Mwadime.\n"
          ]
        }
      ]
    },
    {
      "cell_type": "code",
      "source": [
        "from transformers import pipeline\n",
        "\n",
        "# Initialize the summarizer\n",
        "summarizer = pipeline(\"summarization\", model=\"facebook/bart-large-cnn\")\n",
        "\n",
        "# Summarize the loaded text\n",
        "summary = summarizer(text_content, max_length=150, min_length=30, do_sample=False)\n",
        "\n",
        "print(\"Summary:\")\n",
        "print(summary[0]['summary_text'])\n"
      ],
      "metadata": {
        "colab": {
          "base_uri": "https://localhost:8080/"
        },
        "id": "o2pdi_TBjHbR",
        "outputId": "50aa1933-4b36-4926-c961-aca2b4d763ab"
      },
      "execution_count": 4,
      "outputs": [
        {
          "output_type": "stream",
          "name": "stdout",
          "text": [
            "Summary:\n",
            "Natural Language Processing (NLP) is a branch of artificial intelligence (AI) focused on enabling computers to understand, interpret, and generate human language in a way that feels natural and intuitive. Think of it as the bridge between humans and machines, allowing us to communicate with computers using everyday language.\n"
          ]
        }
      ]
    },
    {
      "cell_type": "code",
      "source": [
        "# Step 2: Summarize the text\n",
        "summarizer = pipeline(\"summarization\", model=\"facebook/bart-large-cnn\")\n",
        "summary = summarizer(text_content, max_length=150, min_length=30, do_sample=False)\n"
      ],
      "metadata": {
        "colab": {
          "base_uri": "https://localhost:8080/"
        },
        "id": "xC0DZbm8kZRG",
        "outputId": "e3413008-0ace-4024-a532-6426e730c5c4"
      },
      "execution_count": null,
      "outputs": [
        {
          "output_type": "stream",
          "name": "stderr",
          "text": [
            "/usr/local/lib/python3.10/dist-packages/huggingface_hub/utils/_auth.py:94: UserWarning: \n",
            "The secret `HF_TOKEN` does not exist in your Colab secrets.\n",
            "To authenticate with the Hugging Face Hub, create a token in your settings tab (https://huggingface.co/settings/tokens), set it as secret in your Google Colab and restart your session.\n",
            "You will be able to reuse this secret in all of your notebooks.\n",
            "Please note that authentication is recommended but still optional to access public models or datasets.\n",
            "  warnings.warn(\n"
          ]
        }
      ]
    },
    {
      "cell_type": "code",
      "source": [
        "# Step 3: Display the summary\n",
        "summarized_text = summary[0]['summary_text']\n",
        "print(\"Summary:\")\n",
        "print(summarized_text)\n"
      ],
      "metadata": {
        "colab": {
          "base_uri": "https://localhost:8080/"
        },
        "id": "sz1M5o4TkaTu",
        "outputId": "d89d1141-9e31-4d96-e3e2-b7e676d5deeb"
      },
      "execution_count": null,
      "outputs": [
        {
          "output_type": "stream",
          "name": "stdout",
          "text": [
            "Summary:\n",
            "Natural language Processing (NLP) is a branch of artificial intelligence (AI) focused on enabling computers to understand, interpret, and generate human language in a way that feels natural and intuitive. Think of it as the bridge between humans and machines, allowing us to communicate with computers using everyday language.\n"
          ]
        }
      ]
    },
    {
      "cell_type": "code",
      "source": [
        "# Step 4: Save the summary to a new text file\n",
        "output_file_path = 'summarized_newsletter.txt'  # Define the output file name\n",
        "with open(output_file_path, 'w', encoding='utf-8') as output_file:\n",
        "    output_file.write(summarized_text)\n",
        "\n",
        "print(f\"Summarized text has been saved to {output_file_path}\")\n"
      ],
      "metadata": {
        "colab": {
          "base_uri": "https://localhost:8080/"
        },
        "id": "zc_Yiv_SkdF9",
        "outputId": "65b1daa2-e53f-4f72-9e61-873b2ec0e586"
      },
      "execution_count": null,
      "outputs": [
        {
          "output_type": "stream",
          "name": "stdout",
          "text": [
            "Summarized text has been saved to summarized_newsletter.txt\n"
          ]
        }
      ]
    }
  ]
}